{
 "cells": [
  {
   "cell_type": "markdown",
   "id": "05e91840",
   "metadata": {},
   "source": [
    "## Feature Engineering using Featuretools"
   ]
  },
  {
   "cell_type": "markdown",
   "id": "0c13507f",
   "metadata": {},
   "source": [
    "#### Import library"
   ]
  },
  {
   "cell_type": "code",
   "execution_count": 1,
   "id": "fc04b53b",
   "metadata": {},
   "outputs": [
    {
     "name": "stderr",
     "output_type": "stream",
     "text": [
      "C:\\Users\\acer\\anaconda3\\lib\\site-packages\\pandas\\core\\arrays\\masked.py:60: UserWarning: Pandas requires version '1.3.6' or newer of 'bottleneck' (version '1.3.5' currently installed).\n",
      "  from pandas.core import (\n"
     ]
    }
   ],
   "source": [
    "import pandas as pd\n",
    "import featuretools as ft"
   ]
  },
  {
   "cell_type": "code",
   "execution_count": 4,
   "id": "69e1d93e",
   "metadata": {},
   "outputs": [],
   "source": [
    "# Load CSV files and remove duplicates\n",
    "customers = pd.read_csv(\"customers.csv\").drop_duplicates(subset=\"Customer ID\")\n",
    "orders = pd.read_csv(\"orders.csv\").drop_duplicates(subset=\"Order ID\")\n",
    "products = pd.read_csv(\"products.csv\").drop_duplicates(subset=\"Product ID\")\n",
    "order_details = pd.read_csv(\"order_details.csv\")\n",
    "\n",
    "# Ensure date columns are properly parsed\n",
    "orders[\"Order Date\"] = pd.to_datetime(orders[\"Order Date\"], format=\"%m/%d/%Y\", errors=\"coerce\")\n",
    "orders[\"Ship Date\"] = pd.to_datetime(orders[\"Ship Date\"], format=\"%m/%d/%Y\", errors=\"coerce\")"
   ]
  },
  {
   "cell_type": "code",
   "execution_count": 5,
   "id": "23a67007",
   "metadata": {},
   "outputs": [],
   "source": [
    "customer_types = {\n",
    "    \"Customer ID\": \"Categorical\",\n",
    "    \"Customer Name\": \"Categorical\",\n",
    "    \"Country\": \"Categorical\",\n",
    "    \"State\": \"Categorical\",\n",
    "    \"Region\": \"Categorical\",\n",
    "}\n",
    "\n",
    "order_types = {\n",
    "    \"Order ID\": \"Categorical\",\n",
    "    \"Order Date\": \"Datetime\",\n",
    "    \"Ship Date\": \"Datetime\",\n",
    "    \"Ship Mode\": \"Categorical\",\n",
    "}\n",
    "\n",
    "product_types = {\n",
    "    \"Product ID\": \"Categorical\",\n",
    "    \"Category\": \"Categorical\",\n",
    "    \"Sub-Category\": \"Categorical\",\n",
    "    \"Product Name\": \"Categorical\",\n",
    "}\n",
    "\n",
    "order_details_types = {\n",
    "    \"Order ID\": \"Categorical\",\n",
    "    \"Product ID\": \"Categorical\",\n",
    "    \"Customer ID\": \"Categorical\",\n",
    "    \"Quantity\": \"Integer\",\n",
    "    \"Discount\": \"Double\",\n",
    "    \"Profit\": \"Double\",\n",
    "    \"Sales\": \"Double\",\n",
    "}"
   ]
  },
  {
   "cell_type": "code",
   "execution_count": 6,
   "id": "01a1e2fe",
   "metadata": {},
   "outputs": [],
   "source": [
    "es = ft.EntitySet(id=\"ecommerce\")"
   ]
  },
  {
   "cell_type": "code",
   "execution_count": 7,
   "id": "b2243e62",
   "metadata": {},
   "outputs": [],
   "source": [
    "es = es.add_dataframe(\n",
    "    dataframe_name=\"customers\",\n",
    "    dataframe=customers,\n",
    "    index=\"Customer ID\",  # Primary key\n",
    "    logical_types=customer_types\n",
    ")\n",
    "\n",
    "# Add orders dataframe to EntitySet\n",
    "es = es.add_dataframe(\n",
    "    dataframe_name=\"orders\",\n",
    "    dataframe=orders,\n",
    "    index=\"Order ID\",  # Primary key\n",
    "    logical_types=order_types,\n",
    "    time_index=\"Order Date\"  # Time index\n",
    ")\n",
    "\n",
    "# Add products dataframe to EntitySet\n",
    "es = es.add_dataframe(\n",
    "    dataframe_name=\"products\",\n",
    "    dataframe=products,\n",
    "    index=\"Product ID\",  # Primary key\n",
    "    logical_types=product_types\n",
    ")\n",
    "\n",
    "order_details = order_details.reset_index()  # Create a unique index\n",
    "order_details.rename(columns={\"index\": \"order_details_id\"}, inplace=True)\n",
    "\n",
    "# Add order_details dataframe to EntitySet\n",
    "es = es.add_dataframe(\n",
    "    dataframe_name=\"order_details\",\n",
    "    dataframe=order_details,\n",
    "    index=\"order_details_id\",\n",
    "    logical_types=order_details_types\n",
    ")"
   ]
  },
  {
   "cell_type": "code",
   "execution_count": 8,
   "id": "a2110acb",
   "metadata": {},
   "outputs": [
    {
     "name": "stdout",
     "output_type": "stream",
     "text": [
      "Entityset: ecommerce\n",
      "  DataFrames:\n",
      "    customers [Rows: 793, Columns: 5]\n",
      "    orders [Rows: 5009, Columns: 4]\n",
      "    products [Rows: 1862, Columns: 4]\n",
      "    order_details [Rows: 9994, Columns: 8]\n",
      "  Relationships:\n",
      "    No relationships\n"
     ]
    }
   ],
   "source": [
    "print(es)"
   ]
  },
  {
   "cell_type": "code",
   "execution_count": 9,
   "id": "0456051e",
   "metadata": {},
   "outputs": [],
   "source": [
    "# Define relationships using the desired format\n",
    "es = es.add_relationship(\"customers\", \"Customer ID\", \"order_details\", \"Customer ID\")\n",
    "es = es.add_relationship(\"orders\", \"Order ID\", \"order_details\", \"Order ID\")\n",
    "es = es.add_relationship(\"products\", \"Product ID\", \"order_details\", \"Product ID\")"
   ]
  },
  {
   "cell_type": "code",
   "execution_count": 10,
   "id": "9b386e8f",
   "metadata": {},
   "outputs": [
    {
     "name": "stdout",
     "output_type": "stream",
     "text": [
      "Entityset: ecommerce\n",
      "  DataFrames:\n",
      "    customers [Rows: 793, Columns: 5]\n",
      "    orders [Rows: 5009, Columns: 4]\n",
      "    products [Rows: 1862, Columns: 4]\n",
      "    order_details [Rows: 9994, Columns: 8]\n",
      "  Relationships:\n",
      "    order_details.Customer ID -> customers.Customer ID\n",
      "    order_details.Order ID -> orders.Order ID\n",
      "    order_details.Product ID -> products.Product ID\n"
     ]
    }
   ],
   "source": [
    "print(es)"
   ]
  },
  {
   "cell_type": "code",
   "execution_count": 11,
   "id": "30cd1554",
   "metadata": {},
   "outputs": [
    {
     "name": "stderr",
     "output_type": "stream",
     "text": [
      "C:\\Users\\acer\\anaconda3\\lib\\site-packages\\featuretools\\computational_backends\\feature_set_calculator.py:785: FutureWarning: The provided callable <function min at 0x00000218C8D2B250> is currently using SeriesGroupBy.min. In a future version of pandas, the provided callable will be used directly. To keep current behavior pass the string \"min\" instead.\n",
      "  ).agg(to_agg)\n",
      "C:\\Users\\acer\\anaconda3\\lib\\site-packages\\featuretools\\computational_backends\\feature_set_calculator.py:785: FutureWarning: The provided callable <function std at 0x00000218C8D2BB50> is currently using SeriesGroupBy.std. In a future version of pandas, the provided callable will be used directly. To keep current behavior pass the string \"std\" instead.\n",
      "  ).agg(to_agg)\n",
      "C:\\Users\\acer\\anaconda3\\lib\\site-packages\\featuretools\\computational_backends\\feature_set_calculator.py:785: FutureWarning: The provided callable <function max at 0x00000218C8D2B130> is currently using SeriesGroupBy.max. In a future version of pandas, the provided callable will be used directly. To keep current behavior pass the string \"max\" instead.\n",
      "  ).agg(to_agg)\n",
      "C:\\Users\\acer\\anaconda3\\lib\\site-packages\\featuretools\\computational_backends\\feature_set_calculator.py:785: FutureWarning: The provided callable <function sum at 0x00000218C8D2AB00> is currently using SeriesGroupBy.sum. In a future version of pandas, the provided callable will be used directly. To keep current behavior pass the string \"sum\" instead.\n",
      "  ).agg(to_agg)\n",
      "C:\\Users\\acer\\anaconda3\\lib\\site-packages\\featuretools\\computational_backends\\feature_set_calculator.py:785: FutureWarning: The provided callable <function mean at 0x00000218C8D2BA30> is currently using SeriesGroupBy.mean. In a future version of pandas, the provided callable will be used directly. To keep current behavior pass the string \"mean\" instead.\n",
      "  ).agg(to_agg)\n",
      "C:\\Users\\acer\\anaconda3\\lib\\site-packages\\featuretools\\computational_backends\\feature_set_calculator.py:785: FutureWarning: The provided callable <function min at 0x00000218C8D2B250> is currently using SeriesGroupBy.min. In a future version of pandas, the provided callable will be used directly. To keep current behavior pass the string \"min\" instead.\n",
      "  ).agg(to_agg)\n",
      "C:\\Users\\acer\\anaconda3\\lib\\site-packages\\featuretools\\computational_backends\\feature_set_calculator.py:785: FutureWarning: The provided callable <function max at 0x00000218C8D2B130> is currently using SeriesGroupBy.max. In a future version of pandas, the provided callable will be used directly. To keep current behavior pass the string \"max\" instead.\n",
      "  ).agg(to_agg)\n",
      "C:\\Users\\acer\\anaconda3\\lib\\site-packages\\featuretools\\computational_backends\\feature_set_calculator.py:785: FutureWarning: The provided callable <function sum at 0x00000218C8D2AB00> is currently using SeriesGroupBy.sum. In a future version of pandas, the provided callable will be used directly. To keep current behavior pass the string \"sum\" instead.\n",
      "  ).agg(to_agg)\n",
      "C:\\Users\\acer\\anaconda3\\lib\\site-packages\\featuretools\\computational_backends\\feature_set_calculator.py:785: FutureWarning: The provided callable <function mean at 0x00000218C8D2BA30> is currently using SeriesGroupBy.mean. In a future version of pandas, the provided callable will be used directly. To keep current behavior pass the string \"mean\" instead.\n",
      "  ).agg(to_agg)\n",
      "C:\\Users\\acer\\anaconda3\\lib\\site-packages\\featuretools\\computational_backends\\feature_set_calculator.py:785: FutureWarning: The provided callable <function std at 0x00000218C8D2BB50> is currently using SeriesGroupBy.std. In a future version of pandas, the provided callable will be used directly. To keep current behavior pass the string \"std\" instead.\n",
      "  ).agg(to_agg)\n",
      "C:\\Users\\acer\\anaconda3\\lib\\site-packages\\featuretools\\computational_backends\\feature_set_calculator.py:785: FutureWarning: The provided callable <function mean at 0x00000218C8D2BA30> is currently using SeriesGroupBy.mean. In a future version of pandas, the provided callable will be used directly. To keep current behavior pass the string \"mean\" instead.\n",
      "  ).agg(to_agg)\n",
      "C:\\Users\\acer\\anaconda3\\lib\\site-packages\\featuretools\\computational_backends\\feature_set_calculator.py:785: FutureWarning: The provided callable <function max at 0x00000218C8D2B130> is currently using SeriesGroupBy.max. In a future version of pandas, the provided callable will be used directly. To keep current behavior pass the string \"max\" instead.\n",
      "  ).agg(to_agg)\n",
      "C:\\Users\\acer\\anaconda3\\lib\\site-packages\\featuretools\\computational_backends\\feature_set_calculator.py:785: FutureWarning: The provided callable <function min at 0x00000218C8D2B250> is currently using SeriesGroupBy.min. In a future version of pandas, the provided callable will be used directly. To keep current behavior pass the string \"min\" instead.\n",
      "  ).agg(to_agg)\n",
      "C:\\Users\\acer\\anaconda3\\lib\\site-packages\\featuretools\\computational_backends\\feature_set_calculator.py:785: FutureWarning: The provided callable <function std at 0x00000218C8D2BB50> is currently using SeriesGroupBy.std. In a future version of pandas, the provided callable will be used directly. To keep current behavior pass the string \"std\" instead.\n",
      "  ).agg(to_agg)\n",
      "C:\\Users\\acer\\anaconda3\\lib\\site-packages\\featuretools\\computational_backends\\feature_set_calculator.py:785: FutureWarning: The provided callable <function sum at 0x00000218C8D2AB00> is currently using SeriesGroupBy.sum. In a future version of pandas, the provided callable will be used directly. To keep current behavior pass the string \"sum\" instead.\n",
      "  ).agg(to_agg)\n",
      "C:\\Users\\acer\\anaconda3\\lib\\site-packages\\featuretools\\computational_backends\\feature_set_calculator.py:785: FutureWarning: The provided callable <function mean at 0x00000218C8D2BA30> is currently using SeriesGroupBy.mean. In a future version of pandas, the provided callable will be used directly. To keep current behavior pass the string \"mean\" instead.\n",
      "  ).agg(to_agg)\n",
      "C:\\Users\\acer\\anaconda3\\lib\\site-packages\\featuretools\\computational_backends\\feature_set_calculator.py:785: FutureWarning: The provided callable <function max at 0x00000218C8D2B130> is currently using SeriesGroupBy.max. In a future version of pandas, the provided callable will be used directly. To keep current behavior pass the string \"max\" instead.\n",
      "  ).agg(to_agg)\n",
      "C:\\Users\\acer\\anaconda3\\lib\\site-packages\\featuretools\\computational_backends\\feature_set_calculator.py:785: FutureWarning: The provided callable <function sum at 0x00000218C8D2AB00> is currently using SeriesGroupBy.sum. In a future version of pandas, the provided callable will be used directly. To keep current behavior pass the string \"sum\" instead.\n",
      "  ).agg(to_agg)\n",
      "C:\\Users\\acer\\anaconda3\\lib\\site-packages\\featuretools\\computational_backends\\feature_set_calculator.py:785: FutureWarning: The provided callable <function min at 0x00000218C8D2B250> is currently using SeriesGroupBy.min. In a future version of pandas, the provided callable will be used directly. To keep current behavior pass the string \"min\" instead.\n",
      "  ).agg(to_agg)\n",
      "C:\\Users\\acer\\anaconda3\\lib\\site-packages\\featuretools\\computational_backends\\feature_set_calculator.py:785: FutureWarning: The provided callable <function std at 0x00000218C8D2BB50> is currently using SeriesGroupBy.std. In a future version of pandas, the provided callable will be used directly. To keep current behavior pass the string \"std\" instead.\n",
      "  ).agg(to_agg)\n"
     ]
    }
   ],
   "source": [
    "feature_matrix, feature_defs = ft.dfs(\n",
    "    entityset=es,                              # The EntitySet\n",
    "    target_dataframe_name=\"order_details\"\n",
    ")"
   ]
  },
  {
   "cell_type": "code",
   "execution_count": 12,
   "id": "3c0818d6",
   "metadata": {},
   "outputs": [
    {
     "name": "stdout",
     "output_type": "stream",
     "text": [
      "                        Order ID       Product ID     Sales  Quantity  \\\n",
      "order_details_id                                                        \n",
      "0                 CA-2016-152156  FUR-BO-10001798  261.9600         2   \n",
      "1                 CA-2016-152156  FUR-CH-10000454  731.9400         3   \n",
      "2                 CA-2016-138688  OFF-LA-10000240   14.6200         2   \n",
      "3                 US-2015-108966  FUR-TA-10000577  957.5775         5   \n",
      "4                 US-2015-108966  OFF-ST-10000760   22.3680         2   \n",
      "\n",
      "                  Discount    Profit Customer ID customers.Customer Name  \\\n",
      "order_details_id                                                           \n",
      "0                     0.00   41.9136    CG-12520             Claire Gute   \n",
      "1                     0.00  219.5820    CG-12520             Claire Gute   \n",
      "2                     0.00    6.8714    DV-13045         Darrin Van Huff   \n",
      "3                     0.45 -383.0310    SO-20335          Sean O'Donnell   \n",
      "4                     0.20    2.5164    SO-20335          Sean O'Donnell   \n",
      "\n",
      "                 customers.Country customers.State  ...  \\\n",
      "order_details_id                                    ...   \n",
      "0                    United States        Kentucky  ...   \n",
      "1                    United States        Kentucky  ...   \n",
      "2                    United States      California  ...   \n",
      "3                    United States         Florida  ...   \n",
      "4                    United States         Florida  ...   \n",
      "\n",
      "                 products.SKEW(order_details.Quantity)  \\\n",
      "order_details_id                                         \n",
      "0                                             1.414214   \n",
      "1                                             0.761137   \n",
      "2                                             1.487473   \n",
      "3                                            -0.820896   \n",
      "4                                             1.135664   \n",
      "\n",
      "                 products.SKEW(order_details.Sales)  \\\n",
      "order_details_id                                      \n",
      "0                                          0.880427   \n",
      "1                                          0.805882   \n",
      "2                                          1.928035   \n",
      "3                                         -1.807227   \n",
      "4                                          1.599025   \n",
      "\n",
      "                 products.STD(order_details.Discount)  \\\n",
      "order_details_id                                        \n",
      "0                                            0.209662   \n",
      "1                                            0.124011   \n",
      "2                                            0.106904   \n",
      "3                                            0.182737   \n",
      "4                                            0.109545   \n",
      "\n",
      "                 products.STD(order_details.Profit)  \\\n",
      "order_details_id                                      \n",
      "0                                         55.336789   \n",
      "1                                        170.137853   \n",
      "2                                          8.338894   \n",
      "3                                        211.860513   \n",
      "4                                         17.874292   \n",
      "\n",
      "                 products.STD(order_details.Quantity)  \\\n",
      "order_details_id                                        \n",
      "0                                            1.414214   \n",
      "1                                            2.454125   \n",
      "2                                            2.429972   \n",
      "3                                            1.505941   \n",
      "4                                            3.898718   \n",
      "\n",
      "                  products.STD(order_details.Sales)  \\\n",
      "order_details_id                                      \n",
      "0                                        178.021609   \n",
      "1                                        508.523764   \n",
      "2                                         17.482977   \n",
      "3                                        325.454627   \n",
      "4                                         55.590499   \n",
      "\n",
      "                  products.SUM(order_details.Discount)  \\\n",
      "order_details_id                                         \n",
      "0                                                 0.85   \n",
      "1                                                 1.70   \n",
      "2                                                 0.60   \n",
      "3                                                 2.10   \n",
      "4                                                 0.60   \n",
      "\n",
      "                  products.SUM(order_details.Profit)  \\\n",
      "order_details_id                                       \n",
      "0                                           -56.3214   \n",
      "1                                          1927.4420   \n",
      "2                                            64.4011   \n",
      "3                                          -532.7613   \n",
      "4                                            63.7488   \n",
      "\n",
      "                  products.SUM(order_details.Quantity)  \\\n",
      "order_details_id                                         \n",
      "0                                                 12.0   \n",
      "1                                                 51.0   \n",
      "2                                                 23.0   \n",
      "3                                                 29.0   \n",
      "4                                                 24.0   \n",
      "\n",
      "                  products.SUM(order_details.Sales)  \n",
      "order_details_id                                     \n",
      "0                                          1263.957  \n",
      "1                                         10637.528  \n",
      "2                                           153.510  \n",
      "3                                          7242.768  \n",
      "4                                           301.968  \n",
      "\n",
      "[5 rows x 110 columns]\n"
     ]
    }
   ],
   "source": [
    "# Display the resulting feature matrix\n",
    "print(feature_matrix.head())"
   ]
  },
  {
   "cell_type": "code",
   "execution_count": 13,
   "id": "7b9077b5",
   "metadata": {},
   "outputs": [
    {
     "name": "stdout",
     "output_type": "stream",
     "text": [
      "['Order ID', 'Product ID', 'Sales', 'Quantity', 'Discount', 'Profit', 'Customer ID', 'customers.Customer Name', 'customers.Country', 'customers.State', 'customers.Region', 'orders.Ship Mode', 'products.Category', 'products.Sub-Category', 'products.Product Name', 'customers.COUNT(order_details)', 'customers.MAX(order_details.Discount)', 'customers.MAX(order_details.Profit)', 'customers.MAX(order_details.Quantity)', 'customers.MAX(order_details.Sales)', 'customers.MEAN(order_details.Discount)', 'customers.MEAN(order_details.Profit)', 'customers.MEAN(order_details.Quantity)', 'customers.MEAN(order_details.Sales)', 'customers.MIN(order_details.Discount)', 'customers.MIN(order_details.Profit)', 'customers.MIN(order_details.Quantity)', 'customers.MIN(order_details.Sales)', 'customers.MODE(order_details.Order ID)', 'customers.MODE(order_details.Product ID)', 'customers.NUM_UNIQUE(order_details.Order ID)', 'customers.NUM_UNIQUE(order_details.Product ID)', 'customers.SKEW(order_details.Discount)', 'customers.SKEW(order_details.Profit)', 'customers.SKEW(order_details.Quantity)', 'customers.SKEW(order_details.Sales)', 'customers.STD(order_details.Discount)', 'customers.STD(order_details.Profit)', 'customers.STD(order_details.Quantity)', 'customers.STD(order_details.Sales)', 'customers.SUM(order_details.Discount)', 'customers.SUM(order_details.Profit)', 'customers.SUM(order_details.Quantity)', 'customers.SUM(order_details.Sales)', 'orders.COUNT(order_details)', 'orders.MAX(order_details.Discount)', 'orders.MAX(order_details.Profit)', 'orders.MAX(order_details.Quantity)', 'orders.MAX(order_details.Sales)', 'orders.MEAN(order_details.Discount)', 'orders.MEAN(order_details.Profit)', 'orders.MEAN(order_details.Quantity)', 'orders.MEAN(order_details.Sales)', 'orders.MIN(order_details.Discount)', 'orders.MIN(order_details.Profit)', 'orders.MIN(order_details.Quantity)', 'orders.MIN(order_details.Sales)', 'orders.MODE(order_details.Customer ID)', 'orders.MODE(order_details.Product ID)', 'orders.NUM_UNIQUE(order_details.Customer ID)', 'orders.NUM_UNIQUE(order_details.Product ID)', 'orders.SKEW(order_details.Discount)', 'orders.SKEW(order_details.Profit)', 'orders.SKEW(order_details.Quantity)', 'orders.SKEW(order_details.Sales)', 'orders.STD(order_details.Discount)', 'orders.STD(order_details.Profit)', 'orders.STD(order_details.Quantity)', 'orders.STD(order_details.Sales)', 'orders.SUM(order_details.Discount)', 'orders.SUM(order_details.Profit)', 'orders.SUM(order_details.Quantity)', 'orders.SUM(order_details.Sales)', 'orders.DAY(Order Date)', 'orders.DAY(Ship Date)', 'orders.MONTH(Order Date)', 'orders.MONTH(Ship Date)', 'orders.WEEKDAY(Order Date)', 'orders.WEEKDAY(Ship Date)', 'orders.YEAR(Order Date)', 'orders.YEAR(Ship Date)', 'products.COUNT(order_details)', 'products.MAX(order_details.Discount)', 'products.MAX(order_details.Profit)', 'products.MAX(order_details.Quantity)', 'products.MAX(order_details.Sales)', 'products.MEAN(order_details.Discount)', 'products.MEAN(order_details.Profit)', 'products.MEAN(order_details.Quantity)', 'products.MEAN(order_details.Sales)', 'products.MIN(order_details.Discount)', 'products.MIN(order_details.Profit)', 'products.MIN(order_details.Quantity)', 'products.MIN(order_details.Sales)', 'products.MODE(order_details.Customer ID)', 'products.MODE(order_details.Order ID)', 'products.NUM_UNIQUE(order_details.Customer ID)', 'products.NUM_UNIQUE(order_details.Order ID)', 'products.SKEW(order_details.Discount)', 'products.SKEW(order_details.Profit)', 'products.SKEW(order_details.Quantity)', 'products.SKEW(order_details.Sales)', 'products.STD(order_details.Discount)', 'products.STD(order_details.Profit)', 'products.STD(order_details.Quantity)', 'products.STD(order_details.Sales)', 'products.SUM(order_details.Discount)', 'products.SUM(order_details.Profit)', 'products.SUM(order_details.Quantity)', 'products.SUM(order_details.Sales)']\n"
     ]
    }
   ],
   "source": [
    "print(feature_matrix.columns.tolist())"
   ]
  },
  {
   "cell_type": "code",
   "execution_count": 14,
   "id": "d29a6118",
   "metadata": {},
   "outputs": [],
   "source": [
    "# Save the resulting feature matrix\n",
    "feature_matrix.to_csv(\"engineered_features.csv\", index=False)"
   ]
  }
 ],
 "metadata": {
  "kernelspec": {
   "display_name": "Python 3 (ipykernel)",
   "language": "python",
   "name": "python3"
  },
  "language_info": {
   "codemirror_mode": {
    "name": "ipython",
    "version": 3
   },
   "file_extension": ".py",
   "mimetype": "text/x-python",
   "name": "python",
   "nbconvert_exporter": "python",
   "pygments_lexer": "ipython3",
   "version": "3.10.9"
  }
 },
 "nbformat": 4,
 "nbformat_minor": 5
}
